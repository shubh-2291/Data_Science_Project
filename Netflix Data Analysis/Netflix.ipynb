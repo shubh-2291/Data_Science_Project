{
 "cells": [
  {
   "cell_type": "markdown",
   "id": "beedd7c4-30f3-4a3e-ad60-5596790e7899",
   "metadata": {},
   "source": [
    "# Netflix Data Analysis"
   ]
  },
  {
   "cell_type": "markdown",
   "id": "a01e78d6-9573-4aa1-8664-520178c25e23",
   "metadata": {},
   "source": [
    "### Problem Statement\n",
    "Netflix is known for it's work in data science, AI, and ML, particularly for building strong recommendation models and algorithms that understand customer behaviour and patterns.Suppose you are working in a data-driven job role, and you have a dataset of more than 9,0000 movies. You need to solve the following questions to help the company make informed business descision accordingly.\n",
    "1. What is the most frequent genre of movies released on Netflix?\n",
    "2. What genres has highest votes?\n",
    "3. What movies got the loewst popularity? What's its genre?\n",
    "4. What movies got the highest popularity? What's its genre?\n",
    "5. Which year has the most filmmed movies?"
   ]
  },
  {
   "cell_type": "markdown",
   "id": "9f2dcaa5-1155-43f8-82c1-ccf0097d17d1",
   "metadata": {},
   "source": [
    "### Dataset Information:\n",
    "\n",
    "- **Release_Date**: Releasing date of movie\n",
    "- **Title**: Name of the movie\n",
    "- **Overview**: Description of the movie\n",
    "- **Popularity**: Popularity of the movie\n",
    "- **Vote_Count**: No of votes for the movie\n",
    "- **Vote_Average**: Average vote of the movie\n",
    "- **Original_Language**: Movie Language\n",
    "- **Genre**: Type of movie\n",
    "- **Poster_Url**: Movie image urlom"
   ]
  },
  {
   "cell_type": "markdown",
   "id": "635347aa-5943-4485-8c9b-72a93cc93524",
   "metadata": {},
   "source": [
    "### 1. Import required libraries"
   ]
  },
  {
   "cell_type": "code",
   "execution_count": 1,
   "id": "ab0645f9-ae1f-40bc-a5e0-f7f9468e26a9",
   "metadata": {},
   "outputs": [],
   "source": [
    "import numpy as np\n",
    "import pandas as pd\n",
    "import matplotlib.pyplot as plt\n",
    "import seaborn as sns"
   ]
  },
  {
   "cell_type": "markdown",
   "id": "6acb2de0-5fcb-47a3-bc7b-f9293727b68b",
   "metadata": {},
   "source": [
    "### 2. Load the dataset"
   ]
  },
  {
   "cell_type": "code",
   "execution_count": 2,
   "id": "740d31fd-3e56-424c-82df-7bad09554360",
   "metadata": {},
   "outputs": [
    {
     "data": {
      "text/html": [
       "<div>\n",
       "<style scoped>\n",
       "    .dataframe tbody tr th:only-of-type {\n",
       "        vertical-align: middle;\n",
       "    }\n",
       "\n",
       "    .dataframe tbody tr th {\n",
       "        vertical-align: top;\n",
       "    }\n",
       "\n",
       "    .dataframe thead th {\n",
       "        text-align: right;\n",
       "    }\n",
       "</style>\n",
       "<table border=\"1\" class=\"dataframe\">\n",
       "  <thead>\n",
       "    <tr style=\"text-align: right;\">\n",
       "      <th></th>\n",
       "      <th>Release_Date</th>\n",
       "      <th>Title</th>\n",
       "      <th>Overview</th>\n",
       "      <th>Popularity</th>\n",
       "      <th>Vote_Count</th>\n",
       "      <th>Vote_Average</th>\n",
       "      <th>Original_Language</th>\n",
       "      <th>Genre</th>\n",
       "      <th>Poster_Url</th>\n",
       "    </tr>\n",
       "  </thead>\n",
       "  <tbody>\n",
       "    <tr>\n",
       "      <th>0</th>\n",
       "      <td>12/15/2021</td>\n",
       "      <td>Spider-Man: No Way Home</td>\n",
       "      <td>Peter Parker is unmasked and no longer able to...</td>\n",
       "      <td>5083.954</td>\n",
       "      <td>8940</td>\n",
       "      <td>8.3</td>\n",
       "      <td>en</td>\n",
       "      <td>Action, Adventure, Science Fiction</td>\n",
       "      <td>https://image.tmdb.org/t/p/original/1g0dhYtq4i...</td>\n",
       "    </tr>\n",
       "    <tr>\n",
       "      <th>1</th>\n",
       "      <td>3/1/2022</td>\n",
       "      <td>The Batman</td>\n",
       "      <td>In his second year of fighting crime, Batman u...</td>\n",
       "      <td>3827.658</td>\n",
       "      <td>1151</td>\n",
       "      <td>8.1</td>\n",
       "      <td>en</td>\n",
       "      <td>Crime, Mystery, Thriller</td>\n",
       "      <td>https://image.tmdb.org/t/p/original/74xTEgt7R3...</td>\n",
       "    </tr>\n",
       "    <tr>\n",
       "      <th>2</th>\n",
       "      <td>2/25/2022</td>\n",
       "      <td>No Exit</td>\n",
       "      <td>Stranded at a rest stop in the mountains durin...</td>\n",
       "      <td>2618.087</td>\n",
       "      <td>122</td>\n",
       "      <td>6.3</td>\n",
       "      <td>en</td>\n",
       "      <td>Thriller</td>\n",
       "      <td>https://image.tmdb.org/t/p/original/vDHsLnOWKl...</td>\n",
       "    </tr>\n",
       "    <tr>\n",
       "      <th>3</th>\n",
       "      <td>11/24/2021</td>\n",
       "      <td>Encanto</td>\n",
       "      <td>The tale of an extraordinary family, the Madri...</td>\n",
       "      <td>2402.201</td>\n",
       "      <td>5076</td>\n",
       "      <td>7.7</td>\n",
       "      <td>en</td>\n",
       "      <td>Animation, Comedy, Family, Fantasy</td>\n",
       "      <td>https://image.tmdb.org/t/p/original/4j0PNHkMr5...</td>\n",
       "    </tr>\n",
       "    <tr>\n",
       "      <th>4</th>\n",
       "      <td>12/22/2021</td>\n",
       "      <td>The King's Man</td>\n",
       "      <td>As a collection of history's worst tyrants and...</td>\n",
       "      <td>1895.511</td>\n",
       "      <td>1793</td>\n",
       "      <td>7</td>\n",
       "      <td>en</td>\n",
       "      <td>Action, Adventure, Thriller, War</td>\n",
       "      <td>https://image.tmdb.org/t/p/original/aq4Pwv5Xeu...</td>\n",
       "    </tr>\n",
       "  </tbody>\n",
       "</table>\n",
       "</div>"
      ],
      "text/plain": [
       "  Release_Date                    Title  \\\n",
       "0   12/15/2021  Spider-Man: No Way Home   \n",
       "1     3/1/2022               The Batman   \n",
       "2    2/25/2022                  No Exit   \n",
       "3   11/24/2021                  Encanto   \n",
       "4   12/22/2021           The King's Man   \n",
       "\n",
       "                                            Overview  Popularity Vote_Count  \\\n",
       "0  Peter Parker is unmasked and no longer able to...    5083.954       8940   \n",
       "1  In his second year of fighting crime, Batman u...    3827.658       1151   \n",
       "2  Stranded at a rest stop in the mountains durin...    2618.087        122   \n",
       "3  The tale of an extraordinary family, the Madri...    2402.201       5076   \n",
       "4  As a collection of history's worst tyrants and...    1895.511       1793   \n",
       "\n",
       "  Vote_Average Original_Language                               Genre  \\\n",
       "0          8.3                en  Action, Adventure, Science Fiction   \n",
       "1          8.1                en            Crime, Mystery, Thriller   \n",
       "2          6.3                en                            Thriller   \n",
       "3          7.7                en  Animation, Comedy, Family, Fantasy   \n",
       "4            7                en    Action, Adventure, Thriller, War   \n",
       "\n",
       "                                          Poster_Url  \n",
       "0  https://image.tmdb.org/t/p/original/1g0dhYtq4i...  \n",
       "1  https://image.tmdb.org/t/p/original/74xTEgt7R3...  \n",
       "2  https://image.tmdb.org/t/p/original/vDHsLnOWKl...  \n",
       "3  https://image.tmdb.org/t/p/original/4j0PNHkMr5...  \n",
       "4  https://image.tmdb.org/t/p/original/aq4Pwv5Xeu...  "
      ]
     },
     "execution_count": 2,
     "metadata": {},
     "output_type": "execute_result"
    }
   ],
   "source": [
    "df = pd.read_csv('movie.csv')\n",
    "df.head()"
   ]
  },
  {
   "cell_type": "markdown",
   "id": "6baa2cf2-4d8d-45f8-99b0-d289edd1cd91",
   "metadata": {},
   "source": [
    "### 3. Check the shape and basic information of the dataset."
   ]
  },
  {
   "cell_type": "code",
   "execution_count": 3,
   "id": "f249b461-544a-4628-99d6-5f412680495a",
   "metadata": {},
   "outputs": [
    {
     "name": "stdout",
     "output_type": "stream",
     "text": [
      "<class 'pandas.core.frame.DataFrame'>\n",
      "RangeIndex: 9837 entries, 0 to 9836\n",
      "Data columns (total 9 columns):\n",
      " #   Column             Non-Null Count  Dtype  \n",
      "---  ------             --------------  -----  \n",
      " 0   Release_Date       9837 non-null   object \n",
      " 1   Title              9828 non-null   object \n",
      " 2   Overview           9828 non-null   object \n",
      " 3   Popularity         9827 non-null   float64\n",
      " 4   Vote_Count         9827 non-null   object \n",
      " 5   Vote_Average       9827 non-null   object \n",
      " 6   Original_Language  9827 non-null   object \n",
      " 7   Genre              9826 non-null   object \n",
      " 8   Poster_Url         9826 non-null   object \n",
      "dtypes: float64(1), object(8)\n",
      "memory usage: 691.8+ KB\n"
     ]
    }
   ],
   "source": [
    "df.info()"
   ]
  },
  {
   "cell_type": "code",
   "execution_count": 4,
   "id": "2a4f6708-9d73-46c1-b055-233b3d976b82",
   "metadata": {},
   "outputs": [
    {
     "data": {
      "text/plain": [
       "(9837, 9)"
      ]
     },
     "execution_count": 4,
     "metadata": {},
     "output_type": "execute_result"
    }
   ],
   "source": [
    "df.shape"
   ]
  },
  {
   "cell_type": "markdown",
   "id": "527d5280-b4a2-4c94-905c-5f03784c75d1",
   "metadata": {},
   "source": [
    "- The data has 9837 records with 9 columns.\n",
    "- Out of 9 columns, 8 are string/object type and 1 is of float type.\n",
    "- Popularity column is of float type.\n",
    "- Except Release_Date column all columns have some missing values.\n",
    "- Release_Date column contains date, so the type should be the datetime not object.\n",
    "- Vote_Count and Vote_Average is containing numeric value so type should be int and float respectively.\n",
    "- Genre coulmn is multi valued, we have to separate every genre values."
   ]
  },
  {
   "cell_type": "code",
   "execution_count": 5,
   "id": "5d02e210-5401-4d98-850b-6cc828eec5b0",
   "metadata": {},
   "outputs": [
    {
     "data": {
      "text/html": [
       "<div>\n",
       "<style scoped>\n",
       "    .dataframe tbody tr th:only-of-type {\n",
       "        vertical-align: middle;\n",
       "    }\n",
       "\n",
       "    .dataframe tbody tr th {\n",
       "        vertical-align: top;\n",
       "    }\n",
       "\n",
       "    .dataframe thead th {\n",
       "        text-align: right;\n",
       "    }\n",
       "</style>\n",
       "<table border=\"1\" class=\"dataframe\">\n",
       "  <thead>\n",
       "    <tr style=\"text-align: right;\">\n",
       "      <th></th>\n",
       "      <th>count</th>\n",
       "      <th>mean</th>\n",
       "      <th>std</th>\n",
       "      <th>min</th>\n",
       "      <th>25%</th>\n",
       "      <th>50%</th>\n",
       "      <th>75%</th>\n",
       "      <th>max</th>\n",
       "    </tr>\n",
       "  </thead>\n",
       "  <tbody>\n",
       "    <tr>\n",
       "      <th>Popularity</th>\n",
       "      <td>9827.0</td>\n",
       "      <td>40.32057</td>\n",
       "      <td>108.874308</td>\n",
       "      <td>7.1</td>\n",
       "      <td>16.1275</td>\n",
       "      <td>21.191</td>\n",
       "      <td>35.1745</td>\n",
       "      <td>5083.954</td>\n",
       "    </tr>\n",
       "  </tbody>\n",
       "</table>\n",
       "</div>"
      ],
      "text/plain": [
       "             count      mean         std  min      25%     50%      75%  \\\n",
       "Popularity  9827.0  40.32057  108.874308  7.1  16.1275  21.191  35.1745   \n",
       "\n",
       "                 max  \n",
       "Popularity  5083.954  "
      ]
     },
     "execution_count": 5,
     "metadata": {},
     "output_type": "execute_result"
    }
   ],
   "source": [
    "df.describe().T"
   ]
  },
  {
   "cell_type": "code",
   "execution_count": 6,
   "id": "a5af9146-1ae1-439a-9c34-4922bb7d9c72",
   "metadata": {},
   "outputs": [
    {
     "data": {
      "text/html": [
       "<div>\n",
       "<style scoped>\n",
       "    .dataframe tbody tr th:only-of-type {\n",
       "        vertical-align: middle;\n",
       "    }\n",
       "\n",
       "    .dataframe tbody tr th {\n",
       "        vertical-align: top;\n",
       "    }\n",
       "\n",
       "    .dataframe thead th {\n",
       "        text-align: right;\n",
       "    }\n",
       "</style>\n",
       "<table border=\"1\" class=\"dataframe\">\n",
       "  <thead>\n",
       "    <tr style=\"text-align: right;\">\n",
       "      <th></th>\n",
       "      <th>Release_Date</th>\n",
       "      <th>Title</th>\n",
       "      <th>Overview</th>\n",
       "      <th>Vote_Count</th>\n",
       "      <th>Vote_Average</th>\n",
       "      <th>Original_Language</th>\n",
       "      <th>Genre</th>\n",
       "      <th>Poster_Url</th>\n",
       "    </tr>\n",
       "  </thead>\n",
       "  <tbody>\n",
       "    <tr>\n",
       "      <th>count</th>\n",
       "      <td>9837</td>\n",
       "      <td>9828</td>\n",
       "      <td>9828</td>\n",
       "      <td>9827</td>\n",
       "      <td>9827</td>\n",
       "      <td>9827</td>\n",
       "      <td>9826</td>\n",
       "      <td>9826</td>\n",
       "    </tr>\n",
       "    <tr>\n",
       "      <th>unique</th>\n",
       "      <td>5903</td>\n",
       "      <td>9514</td>\n",
       "      <td>9823</td>\n",
       "      <td>3267</td>\n",
       "      <td>75</td>\n",
       "      <td>44</td>\n",
       "      <td>2337</td>\n",
       "      <td>9826</td>\n",
       "    </tr>\n",
       "    <tr>\n",
       "      <th>top</th>\n",
       "      <td>3/10/2022</td>\n",
       "      <td>Beauty and the Beast</td>\n",
       "      <td>Dr. Raichi is one of the only survivors of the...</td>\n",
       "      <td>0</td>\n",
       "      <td>6.4</td>\n",
       "      <td>en</td>\n",
       "      <td>Drama</td>\n",
       "      <td>https://image.tmdb.org/t/p/original/1g0dhYtq4i...</td>\n",
       "    </tr>\n",
       "    <tr>\n",
       "      <th>freq</th>\n",
       "      <td>16</td>\n",
       "      <td>4</td>\n",
       "      <td>2</td>\n",
       "      <td>100</td>\n",
       "      <td>435</td>\n",
       "      <td>7569</td>\n",
       "      <td>466</td>\n",
       "      <td>1</td>\n",
       "    </tr>\n",
       "  </tbody>\n",
       "</table>\n",
       "</div>"
      ],
      "text/plain": [
       "       Release_Date                 Title  \\\n",
       "count          9837                  9828   \n",
       "unique         5903                  9514   \n",
       "top       3/10/2022  Beauty and the Beast   \n",
       "freq             16                     4   \n",
       "\n",
       "                                                 Overview Vote_Count  \\\n",
       "count                                                9828       9827   \n",
       "unique                                               9823       3267   \n",
       "top     Dr. Raichi is one of the only survivors of the...          0   \n",
       "freq                                                    2        100   \n",
       "\n",
       "       Vote_Average Original_Language  Genre  \\\n",
       "count          9827              9827   9826   \n",
       "unique           75                44   2337   \n",
       "top             6.4                en  Drama   \n",
       "freq            435              7569    466   \n",
       "\n",
       "                                               Poster_Url  \n",
       "count                                                9826  \n",
       "unique                                               9826  \n",
       "top     https://image.tmdb.org/t/p/original/1g0dhYtq4i...  \n",
       "freq                                                    1  "
      ]
     },
     "execution_count": 6,
     "metadata": {},
     "output_type": "execute_result"
    }
   ],
   "source": [
    "df.describe(include= 'O')"
   ]
  },
  {
   "cell_type": "code",
   "execution_count": 7,
   "id": "974b2498-528e-40ab-ba34-ab333b64db89",
   "metadata": {},
   "outputs": [
    {
     "data": {
      "text/html": [
       "<div>\n",
       "<style scoped>\n",
       "    .dataframe tbody tr th:only-of-type {\n",
       "        vertical-align: middle;\n",
       "    }\n",
       "\n",
       "    .dataframe tbody tr th {\n",
       "        vertical-align: top;\n",
       "    }\n",
       "\n",
       "    .dataframe thead th {\n",
       "        text-align: right;\n",
       "    }\n",
       "</style>\n",
       "<table border=\"1\" class=\"dataframe\">\n",
       "  <thead>\n",
       "    <tr style=\"text-align: right;\">\n",
       "      <th></th>\n",
       "      <th>Release_Date</th>\n",
       "      <th>Title</th>\n",
       "      <th>Overview</th>\n",
       "      <th>Popularity</th>\n",
       "      <th>Vote_Count</th>\n",
       "      <th>Vote_Average</th>\n",
       "      <th>Original_Language</th>\n",
       "      <th>Genre</th>\n",
       "      <th>Poster_Url</th>\n",
       "    </tr>\n",
       "  </thead>\n",
       "  <tbody>\n",
       "    <tr>\n",
       "      <th>467</th>\n",
       "      <td>10/22/1991</td>\n",
       "      <td>Beauty and the Beast</td>\n",
       "      <td>Follow the adventures of Belle, a bright young...</td>\n",
       "      <td>109.649</td>\n",
       "      <td>8280</td>\n",
       "      <td>7.7</td>\n",
       "      <td>en</td>\n",
       "      <td>Romance, Family, Animation, Fantasy</td>\n",
       "      <td>https://image.tmdb.org/t/p/original/7oCAPOphDK...</td>\n",
       "    </tr>\n",
       "    <tr>\n",
       "      <th>506</th>\n",
       "      <td>3/16/2017</td>\n",
       "      <td>Beauty and the Beast</td>\n",
       "      <td>A live-action adaptation of Disney's version o...</td>\n",
       "      <td>104.094</td>\n",
       "      <td>13992</td>\n",
       "      <td>7</td>\n",
       "      <td>en</td>\n",
       "      <td>Family, Fantasy, Romance</td>\n",
       "      <td>https://image.tmdb.org/t/p/original/hKegSKIDep...</td>\n",
       "    </tr>\n",
       "    <tr>\n",
       "      <th>3006</th>\n",
       "      <td>2/12/2014</td>\n",
       "      <td>Beauty and the Beast</td>\n",
       "      <td>Beauty and the Beast is the adaptation of a st...</td>\n",
       "      <td>30.170</td>\n",
       "      <td>1763</td>\n",
       "      <td>6.1</td>\n",
       "      <td>fr</td>\n",
       "      <td>Fantasy, Romance</td>\n",
       "      <td>https://image.tmdb.org/t/p/original/8bErT2koHX...</td>\n",
       "    </tr>\n",
       "    <tr>\n",
       "      <th>5771</th>\n",
       "      <td>10/29/1946</td>\n",
       "      <td>Beauty and the Beast</td>\n",
       "      <td>The story of a gentle-hearted beast in love wi...</td>\n",
       "      <td>19.024</td>\n",
       "      <td>449</td>\n",
       "      <td>7.5</td>\n",
       "      <td>fr</td>\n",
       "      <td>Drama, Fantasy, Romance</td>\n",
       "      <td>https://image.tmdb.org/t/p/original/8asbxUhxKA...</td>\n",
       "    </tr>\n",
       "  </tbody>\n",
       "</table>\n",
       "</div>"
      ],
      "text/plain": [
       "     Release_Date                 Title  \\\n",
       "467    10/22/1991  Beauty and the Beast   \n",
       "506     3/16/2017  Beauty and the Beast   \n",
       "3006    2/12/2014  Beauty and the Beast   \n",
       "5771   10/29/1946  Beauty and the Beast   \n",
       "\n",
       "                                               Overview  Popularity  \\\n",
       "467   Follow the adventures of Belle, a bright young...     109.649   \n",
       "506   A live-action adaptation of Disney's version o...     104.094   \n",
       "3006  Beauty and the Beast is the adaptation of a st...      30.170   \n",
       "5771  The story of a gentle-hearted beast in love wi...      19.024   \n",
       "\n",
       "     Vote_Count Vote_Average Original_Language  \\\n",
       "467        8280          7.7                en   \n",
       "506       13992            7                en   \n",
       "3006       1763          6.1                fr   \n",
       "5771        449          7.5                fr   \n",
       "\n",
       "                                    Genre  \\\n",
       "467   Romance, Family, Animation, Fantasy   \n",
       "506              Family, Fantasy, Romance   \n",
       "3006                     Fantasy, Romance   \n",
       "5771              Drama, Fantasy, Romance   \n",
       "\n",
       "                                             Poster_Url  \n",
       "467   https://image.tmdb.org/t/p/original/7oCAPOphDK...  \n",
       "506   https://image.tmdb.org/t/p/original/hKegSKIDep...  \n",
       "3006  https://image.tmdb.org/t/p/original/8bErT2koHX...  \n",
       "5771  https://image.tmdb.org/t/p/original/8asbxUhxKA...  "
      ]
     },
     "execution_count": 7,
     "metadata": {},
     "output_type": "execute_result"
    }
   ],
   "source": [
    "df[df['Title'] == 'Beauty and the Beast']"
   ]
  },
  {
   "cell_type": "markdown",
   "id": "59999491-8740-403f-a287-1a3133f35e66",
   "metadata": {},
   "source": [
    "#### There is some movies with the same name but that is not as duplicates. That has different languages, overview and release_date."
   ]
  },
  {
   "cell_type": "code",
   "execution_count": 8,
   "id": "3a8bee8d-9e17-4219-8bd2-7f0aacf2e7dd",
   "metadata": {},
   "outputs": [
    {
     "data": {
      "text/plain": [
       "0"
      ]
     },
     "execution_count": 8,
     "metadata": {},
     "output_type": "execute_result"
    }
   ],
   "source": [
    "df.duplicated().sum()"
   ]
  },
  {
   "cell_type": "markdown",
   "id": "3f07d484-ab2f-4ea4-86ff-2cce662a232d",
   "metadata": {},
   "source": [
    "#### There is no duplicate values"
   ]
  },
  {
   "cell_type": "code",
   "execution_count": 9,
   "id": "a066ee1d-ca88-4e8c-b519-9713aaf0544c",
   "metadata": {},
   "outputs": [
    {
     "data": {
      "text/plain": [
       "Release_Date          0\n",
       "Title                 9\n",
       "Overview              9\n",
       "Popularity           10\n",
       "Vote_Count           10\n",
       "Vote_Average         10\n",
       "Original_Language    10\n",
       "Genre                11\n",
       "Poster_Url           11\n",
       "dtype: int64"
      ]
     },
     "execution_count": 9,
     "metadata": {},
     "output_type": "execute_result"
    }
   ],
   "source": [
    "df.isna().sum()"
   ]
  },
  {
   "cell_type": "markdown",
   "id": "1cedbf57-679b-4065-bf6b-a24af2ead8a5",
   "metadata": {},
   "source": [
    "#### We can clearly see that there is some missing values in the data. "
   ]
  },
  {
   "cell_type": "markdown",
   "id": "bf5fc8da-15d3-4c63-a0d0-f33b05389549",
   "metadata": {},
   "source": [
    "- Checking % of missing values "
   ]
  },
  {
   "cell_type": "code",
   "execution_count": 10,
   "id": "cb67f21c-2cef-41ed-b851-6fed2d90b888",
   "metadata": {},
   "outputs": [
    {
     "data": {
      "text/plain": [
       "Release_Date         0.000000\n",
       "Title                0.091491\n",
       "Overview             0.091491\n",
       "Popularity           0.101657\n",
       "Vote_Count           0.101657\n",
       "Vote_Average         0.101657\n",
       "Original_Language    0.101657\n",
       "Genre                0.111823\n",
       "Poster_Url           0.111823\n",
       "dtype: float64"
      ]
     },
     "execution_count": 10,
     "metadata": {},
     "output_type": "execute_result"
    }
   ],
   "source": [
    "df.isna().sum() / len(df) * 100"
   ]
  },
  {
   "cell_type": "markdown",
   "id": "5474a7d0-03a0-4e75-bc61-a917c0458307",
   "metadata": {},
   "source": [
    "- There is a very small percentage(< 1%) of missing values, so we can drop them. It will not cause any negative effect."
   ]
  },
  {
   "cell_type": "code",
   "execution_count": 11,
   "id": "0d9d74c0-d4d8-44c7-9830-d8babdb1a204",
   "metadata": {},
   "outputs": [],
   "source": [
    "df = df.dropna()"
   ]
  },
  {
   "cell_type": "code",
   "execution_count": 12,
   "id": "b673f89e-c239-4a5c-a5bb-aac7eb94766d",
   "metadata": {},
   "outputs": [
    {
     "data": {
      "text/plain": [
       "Release_Date         0\n",
       "Title                0\n",
       "Overview             0\n",
       "Popularity           0\n",
       "Vote_Count           0\n",
       "Vote_Average         0\n",
       "Original_Language    0\n",
       "Genre                0\n",
       "Poster_Url           0\n",
       "dtype: int64"
      ]
     },
     "execution_count": 12,
     "metadata": {},
     "output_type": "execute_result"
    }
   ],
   "source": [
    "df.isna().sum()"
   ]
  },
  {
   "cell_type": "code",
   "execution_count": 13,
   "id": "983c975b-db5f-4897-92c1-772bed7d630d",
   "metadata": {},
   "outputs": [],
   "source": [
    "df['Vote_Count'] = pd.to_numeric(df['Vote_Count'], errors='coerce').astype('Int64')\n",
    "df['Vote_Average'] = pd.to_numeric(df['Vote_Average'], errors='coerce')"
   ]
  },
  {
   "cell_type": "code",
   "execution_count": 14,
   "id": "a3a87ca0-6d71-4d0e-89ff-2d18c096abe8",
   "metadata": {},
   "outputs": [],
   "source": [
    "df['Release_Date'] = pd.to_datetime(df['Release_Date'], errors='coerce')"
   ]
  },
  {
   "cell_type": "code",
   "execution_count": 15,
   "id": "92ccb5c8-eaf1-4716-9288-ea4a5b2654ac",
   "metadata": {},
   "outputs": [],
   "source": [
    "df['Release_Date'] = df['Release_Date'].dt.year.astype('Int64')"
   ]
  },
  {
   "cell_type": "code",
   "execution_count": 16,
   "id": "779eb467-475a-4fed-9638-3ccbfd8df295",
   "metadata": {},
   "outputs": [],
   "source": [
    "df.rename(columns = {'Release_Date': 'Release_Year'}, inplace=True)"
   ]
  },
  {
   "cell_type": "code",
   "execution_count": 17,
   "id": "0cf71ff3-a8cf-4b94-a035-74e1ae111b69",
   "metadata": {},
   "outputs": [
    {
     "name": "stdout",
     "output_type": "stream",
     "text": [
      "<class 'pandas.core.frame.DataFrame'>\n",
      "Index: 9826 entries, 0 to 9836\n",
      "Data columns (total 9 columns):\n",
      " #   Column             Non-Null Count  Dtype  \n",
      "---  ------             --------------  -----  \n",
      " 0   Release_Year       9826 non-null   Int64  \n",
      " 1   Title              9826 non-null   object \n",
      " 2   Overview           9826 non-null   object \n",
      " 3   Popularity         9826 non-null   float64\n",
      " 4   Vote_Count         9826 non-null   Int64  \n",
      " 5   Vote_Average       9826 non-null   float64\n",
      " 6   Original_Language  9826 non-null   object \n",
      " 7   Genre              9826 non-null   object \n",
      " 8   Poster_Url         9826 non-null   object \n",
      "dtypes: Int64(2), float64(2), object(5)\n",
      "memory usage: 786.8+ KB\n"
     ]
    }
   ],
   "source": [
    "df.info()"
   ]
  },
  {
   "cell_type": "code",
   "execution_count": 18,
   "id": "eecabf97-a6da-446f-8b64-fa8c46e82e8b",
   "metadata": {},
   "outputs": [
    {
     "data": {
      "text/html": [
       "<div>\n",
       "<style scoped>\n",
       "    .dataframe tbody tr th:only-of-type {\n",
       "        vertical-align: middle;\n",
       "    }\n",
       "\n",
       "    .dataframe tbody tr th {\n",
       "        vertical-align: top;\n",
       "    }\n",
       "\n",
       "    .dataframe thead th {\n",
       "        text-align: right;\n",
       "    }\n",
       "</style>\n",
       "<table border=\"1\" class=\"dataframe\">\n",
       "  <thead>\n",
       "    <tr style=\"text-align: right;\">\n",
       "      <th></th>\n",
       "      <th>count</th>\n",
       "      <th>mean</th>\n",
       "      <th>std</th>\n",
       "      <th>min</th>\n",
       "      <th>25%</th>\n",
       "      <th>50%</th>\n",
       "      <th>75%</th>\n",
       "      <th>max</th>\n",
       "    </tr>\n",
       "  </thead>\n",
       "  <tbody>\n",
       "    <tr>\n",
       "      <th>Release_Year</th>\n",
       "      <td>9826.0</td>\n",
       "      <td>2006.202931</td>\n",
       "      <td>15.686202</td>\n",
       "      <td>1902.0</td>\n",
       "      <td>2000.0</td>\n",
       "      <td>2011.0</td>\n",
       "      <td>2017.0</td>\n",
       "      <td>2024.0</td>\n",
       "    </tr>\n",
       "    <tr>\n",
       "      <th>Popularity</th>\n",
       "      <td>9826.0</td>\n",
       "      <td>40.323951</td>\n",
       "      <td>108.879332</td>\n",
       "      <td>13.354</td>\n",
       "      <td>16.12825</td>\n",
       "      <td>21.195</td>\n",
       "      <td>35.17925</td>\n",
       "      <td>5083.954</td>\n",
       "    </tr>\n",
       "    <tr>\n",
       "      <th>Vote_Count</th>\n",
       "      <td>9826.0</td>\n",
       "      <td>1392.943721</td>\n",
       "      <td>2611.303856</td>\n",
       "      <td>0.0</td>\n",
       "      <td>146.0</td>\n",
       "      <td>444.0</td>\n",
       "      <td>1376.0</td>\n",
       "      <td>31077.0</td>\n",
       "    </tr>\n",
       "    <tr>\n",
       "      <th>Vote_Average</th>\n",
       "      <td>9826.0</td>\n",
       "      <td>6.439467</td>\n",
       "      <td>1.129797</td>\n",
       "      <td>0.0</td>\n",
       "      <td>5.9</td>\n",
       "      <td>6.5</td>\n",
       "      <td>7.1</td>\n",
       "      <td>10.0</td>\n",
       "    </tr>\n",
       "  </tbody>\n",
       "</table>\n",
       "</div>"
      ],
      "text/plain": [
       "               count         mean          std     min       25%     50%  \\\n",
       "Release_Year  9826.0  2006.202931    15.686202  1902.0    2000.0  2011.0   \n",
       "Popularity    9826.0    40.323951   108.879332  13.354  16.12825  21.195   \n",
       "Vote_Count    9826.0  1392.943721  2611.303856     0.0     146.0   444.0   \n",
       "Vote_Average  9826.0     6.439467     1.129797     0.0       5.9     6.5   \n",
       "\n",
       "                   75%       max  \n",
       "Release_Year    2017.0    2024.0  \n",
       "Popularity    35.17925  5083.954  \n",
       "Vote_Count      1376.0   31077.0  \n",
       "Vote_Average       7.1      10.0  "
      ]
     },
     "execution_count": 18,
     "metadata": {},
     "output_type": "execute_result"
    }
   ],
   "source": [
    "df.describe().T"
   ]
  },
  {
   "cell_type": "markdown",
   "id": "7374123e-8ae3-454e-a3e1-53a8e5e61ea7",
   "metadata": {},
   "source": [
    "### after droping missing values\n",
    "- we have a dataframe consisting of 9826 rows and 9 columns.\n",
    "- our dataset looks a bit tidy with no NaNs nor duplicated values.\n",
    "- Release_Date column casted into date time and to extract only the year.\n",
    "- Overview, Original_Language and Poster-Url wouldn't be so useful during analysis so, i will drop them.\n",
    "- there is noticable outliers in Popularity column.\n",
    "- Genre column has comma separated values and white spaces that needs to be handled."
   ]
  },
  {
   "cell_type": "markdown",
   "id": "17b8309e-9576-47df-a3db-bcf58806123b",
   "metadata": {},
   "source": [
    "### Dropping the unnecessary column."
   ]
  },
  {
   "cell_type": "code",
   "execution_count": 19,
   "id": "8c1a15fd-9918-47f9-b5fd-f16e94371876",
   "metadata": {},
   "outputs": [],
   "source": [
    "col_to_drop = ['Overview', 'Original_Language', 'Poster_Url']\n",
    "df.drop(col_to_drop, axis= 1, inplace = True)"
   ]
  },
  {
   "cell_type": "code",
   "execution_count": 20,
   "id": "08379be9-c76b-49b6-90e4-78b8c25f5425",
   "metadata": {},
   "outputs": [
    {
     "data": {
      "text/html": [
       "<div>\n",
       "<style scoped>\n",
       "    .dataframe tbody tr th:only-of-type {\n",
       "        vertical-align: middle;\n",
       "    }\n",
       "\n",
       "    .dataframe tbody tr th {\n",
       "        vertical-align: top;\n",
       "    }\n",
       "\n",
       "    .dataframe thead th {\n",
       "        text-align: right;\n",
       "    }\n",
       "</style>\n",
       "<table border=\"1\" class=\"dataframe\">\n",
       "  <thead>\n",
       "    <tr style=\"text-align: right;\">\n",
       "      <th></th>\n",
       "      <th>Release_Year</th>\n",
       "      <th>Title</th>\n",
       "      <th>Popularity</th>\n",
       "      <th>Vote_Count</th>\n",
       "      <th>Vote_Average</th>\n",
       "      <th>Genre</th>\n",
       "    </tr>\n",
       "  </thead>\n",
       "  <tbody>\n",
       "    <tr>\n",
       "      <th>0</th>\n",
       "      <td>2021</td>\n",
       "      <td>Spider-Man: No Way Home</td>\n",
       "      <td>5083.954</td>\n",
       "      <td>8940</td>\n",
       "      <td>8.3</td>\n",
       "      <td>Action, Adventure, Science Fiction</td>\n",
       "    </tr>\n",
       "    <tr>\n",
       "      <th>1</th>\n",
       "      <td>2022</td>\n",
       "      <td>The Batman</td>\n",
       "      <td>3827.658</td>\n",
       "      <td>1151</td>\n",
       "      <td>8.1</td>\n",
       "      <td>Crime, Mystery, Thriller</td>\n",
       "    </tr>\n",
       "    <tr>\n",
       "      <th>2</th>\n",
       "      <td>2022</td>\n",
       "      <td>No Exit</td>\n",
       "      <td>2618.087</td>\n",
       "      <td>122</td>\n",
       "      <td>6.3</td>\n",
       "      <td>Thriller</td>\n",
       "    </tr>\n",
       "    <tr>\n",
       "      <th>3</th>\n",
       "      <td>2021</td>\n",
       "      <td>Encanto</td>\n",
       "      <td>2402.201</td>\n",
       "      <td>5076</td>\n",
       "      <td>7.7</td>\n",
       "      <td>Animation, Comedy, Family, Fantasy</td>\n",
       "    </tr>\n",
       "    <tr>\n",
       "      <th>4</th>\n",
       "      <td>2021</td>\n",
       "      <td>The King's Man</td>\n",
       "      <td>1895.511</td>\n",
       "      <td>1793</td>\n",
       "      <td>7.0</td>\n",
       "      <td>Action, Adventure, Thriller, War</td>\n",
       "    </tr>\n",
       "  </tbody>\n",
       "</table>\n",
       "</div>"
      ],
      "text/plain": [
       "   Release_Year                    Title  Popularity  Vote_Count  \\\n",
       "0          2021  Spider-Man: No Way Home    5083.954        8940   \n",
       "1          2022               The Batman    3827.658        1151   \n",
       "2          2022                  No Exit    2618.087         122   \n",
       "3          2021                  Encanto    2402.201        5076   \n",
       "4          2021           The King's Man    1895.511        1793   \n",
       "\n",
       "   Vote_Average                               Genre  \n",
       "0           8.3  Action, Adventure, Science Fiction  \n",
       "1           8.1            Crime, Mystery, Thriller  \n",
       "2           6.3                            Thriller  \n",
       "3           7.7  Animation, Comedy, Family, Fantasy  \n",
       "4           7.0    Action, Adventure, Thriller, War  "
      ]
     },
     "execution_count": 20,
     "metadata": {},
     "output_type": "execute_result"
    }
   ],
   "source": [
    "df.head()"
   ]
  },
  {
   "cell_type": "markdown",
   "id": "8458f751-9355-47c5-b373-6dcc85cfcbbf",
   "metadata": {},
   "source": [
    "### categorizing Vote_Average column\n",
    "- We will categorize the Vote_Average values into 4 categories: popular, average, below_avg, not_popular. To categorize this i am creating a function called categorize_by_quartiles().\n",
    "- I am using quartile-based categorization to segment the movies based on their average ratings in a way that reflects the distribution of the data. This method ensures that each category contains roughly the same number of movies, which helps avoid imbalanced classes and gives a more balanced perspective when comparing 'not_popular', 'below_avg', 'average', or 'popular' movies. It's especially useful when the ratings are not evenly distributed, which is often the case in real-world movie data where many ratings cluster around the middle.\""
   ]
  },
  {
   "cell_type": "code",
   "execution_count": 21,
   "id": "9babb857-7f90-4aa7-9156-26450d0e8c1c",
   "metadata": {},
   "outputs": [],
   "source": [
    "def categorize_by_quartiles(df, col, labels):\n",
    "    edges = [\n",
    "        df[col].min(),\n",
    "        df[col].quantile(0.25),\n",
    "        df[col].quantile(0.50),\n",
    "        df[col].quantile(0.75),\n",
    "        df[col].max()\n",
    "    ]\n",
    "\n",
    "    edges = sorted(set(edges))\n",
    "    \n",
    "    num_bins = len(edges) - 1\n",
    "    used_labels = labels[:num_bins]\n",
    "\n",
    "    df[col] = pd.cut(\n",
    "        df[col],\n",
    "        bins=edges,\n",
    "        labels=used_labels,\n",
    "        include_lowest=True\n",
    "    )\n",
    "\n",
    "    return df"
   ]
  },
  {
   "cell_type": "code",
   "execution_count": 22,
   "id": "5928a537-de3e-49e7-88a6-8047cf98eee1",
   "metadata": {},
   "outputs": [],
   "source": [
    "labels = ['not_popular', 'below_avg', 'average', 'popular']\n",
    "df = categorize_by_quartiles(df, 'Vote_Average', labels)"
   ]
  },
  {
   "cell_type": "code",
   "execution_count": 23,
   "id": "28d27983-4743-4cc5-bcdc-a37f04bc31bc",
   "metadata": {},
   "outputs": [
    {
     "data": {
      "text/plain": [
       "Vote_Average\n",
       "not_popular    2567\n",
       "popular        2450\n",
       "average        2411\n",
       "below_avg      2398\n",
       "Name: count, dtype: int64"
      ]
     },
     "execution_count": 23,
     "metadata": {},
     "output_type": "execute_result"
    }
   ],
   "source": [
    "df['Vote_Average'].value_counts()"
   ]
  },
  {
   "cell_type": "code",
   "execution_count": 24,
   "id": "caac976c-c8be-4e28-9c4f-514cc2a5bde0",
   "metadata": {},
   "outputs": [
    {
     "data": {
      "text/html": [
       "<div>\n",
       "<style scoped>\n",
       "    .dataframe tbody tr th:only-of-type {\n",
       "        vertical-align: middle;\n",
       "    }\n",
       "\n",
       "    .dataframe tbody tr th {\n",
       "        vertical-align: top;\n",
       "    }\n",
       "\n",
       "    .dataframe thead th {\n",
       "        text-align: right;\n",
       "    }\n",
       "</style>\n",
       "<table border=\"1\" class=\"dataframe\">\n",
       "  <thead>\n",
       "    <tr style=\"text-align: right;\">\n",
       "      <th></th>\n",
       "      <th>Release_Year</th>\n",
       "      <th>Title</th>\n",
       "      <th>Popularity</th>\n",
       "      <th>Vote_Count</th>\n",
       "      <th>Vote_Average</th>\n",
       "      <th>Genre</th>\n",
       "    </tr>\n",
       "  </thead>\n",
       "  <tbody>\n",
       "    <tr>\n",
       "      <th>0</th>\n",
       "      <td>2021</td>\n",
       "      <td>Spider-Man: No Way Home</td>\n",
       "      <td>5083.954</td>\n",
       "      <td>8940</td>\n",
       "      <td>popular</td>\n",
       "      <td>Action, Adventure, Science Fiction</td>\n",
       "    </tr>\n",
       "    <tr>\n",
       "      <th>1</th>\n",
       "      <td>2022</td>\n",
       "      <td>The Batman</td>\n",
       "      <td>3827.658</td>\n",
       "      <td>1151</td>\n",
       "      <td>popular</td>\n",
       "      <td>Crime, Mystery, Thriller</td>\n",
       "    </tr>\n",
       "    <tr>\n",
       "      <th>2</th>\n",
       "      <td>2022</td>\n",
       "      <td>No Exit</td>\n",
       "      <td>2618.087</td>\n",
       "      <td>122</td>\n",
       "      <td>below_avg</td>\n",
       "      <td>Thriller</td>\n",
       "    </tr>\n",
       "  </tbody>\n",
       "</table>\n",
       "</div>"
      ],
      "text/plain": [
       "   Release_Year                    Title  Popularity  Vote_Count Vote_Average  \\\n",
       "0          2021  Spider-Man: No Way Home    5083.954        8940      popular   \n",
       "1          2022               The Batman    3827.658        1151      popular   \n",
       "2          2022                  No Exit    2618.087         122    below_avg   \n",
       "\n",
       "                                Genre  \n",
       "0  Action, Adventure, Science Fiction  \n",
       "1            Crime, Mystery, Thriller  \n",
       "2                            Thriller  "
      ]
     },
     "execution_count": 24,
     "metadata": {},
     "output_type": "execute_result"
    }
   ],
   "source": [
    "df.head(3)"
   ]
  },
  {
   "cell_type": "markdown",
   "id": "03ebed2d-beed-4fa5-8a36-b7825d18423a",
   "metadata": {},
   "source": [
    "### we'd split genres into a list and then explode our dataframe to have only one genre per row for each movie"
   ]
  },
  {
   "cell_type": "code",
   "execution_count": 25,
   "id": "0e4e463b-d31f-44fc-9a64-7acde47c1e10",
   "metadata": {},
   "outputs": [
    {
     "data": {
      "text/html": [
       "<div>\n",
       "<style scoped>\n",
       "    .dataframe tbody tr th:only-of-type {\n",
       "        vertical-align: middle;\n",
       "    }\n",
       "\n",
       "    .dataframe tbody tr th {\n",
       "        vertical-align: top;\n",
       "    }\n",
       "\n",
       "    .dataframe thead th {\n",
       "        text-align: right;\n",
       "    }\n",
       "</style>\n",
       "<table border=\"1\" class=\"dataframe\">\n",
       "  <thead>\n",
       "    <tr style=\"text-align: right;\">\n",
       "      <th></th>\n",
       "      <th>Release_Year</th>\n",
       "      <th>Title</th>\n",
       "      <th>Popularity</th>\n",
       "      <th>Vote_Count</th>\n",
       "      <th>Vote_Average</th>\n",
       "      <th>Genre</th>\n",
       "    </tr>\n",
       "  </thead>\n",
       "  <tbody>\n",
       "    <tr>\n",
       "      <th>0</th>\n",
       "      <td>2021</td>\n",
       "      <td>Spider-Man: No Way Home</td>\n",
       "      <td>5083.954</td>\n",
       "      <td>8940</td>\n",
       "      <td>popular</td>\n",
       "      <td>Action</td>\n",
       "    </tr>\n",
       "    <tr>\n",
       "      <th>1</th>\n",
       "      <td>2021</td>\n",
       "      <td>Spider-Man: No Way Home</td>\n",
       "      <td>5083.954</td>\n",
       "      <td>8940</td>\n",
       "      <td>popular</td>\n",
       "      <td>Adventure</td>\n",
       "    </tr>\n",
       "    <tr>\n",
       "      <th>2</th>\n",
       "      <td>2021</td>\n",
       "      <td>Spider-Man: No Way Home</td>\n",
       "      <td>5083.954</td>\n",
       "      <td>8940</td>\n",
       "      <td>popular</td>\n",
       "      <td>Science Fiction</td>\n",
       "    </tr>\n",
       "    <tr>\n",
       "      <th>3</th>\n",
       "      <td>2022</td>\n",
       "      <td>The Batman</td>\n",
       "      <td>3827.658</td>\n",
       "      <td>1151</td>\n",
       "      <td>popular</td>\n",
       "      <td>Crime</td>\n",
       "    </tr>\n",
       "    <tr>\n",
       "      <th>4</th>\n",
       "      <td>2022</td>\n",
       "      <td>The Batman</td>\n",
       "      <td>3827.658</td>\n",
       "      <td>1151</td>\n",
       "      <td>popular</td>\n",
       "      <td>Mystery</td>\n",
       "    </tr>\n",
       "  </tbody>\n",
       "</table>\n",
       "</div>"
      ],
      "text/plain": [
       "   Release_Year                    Title  Popularity  Vote_Count Vote_Average  \\\n",
       "0          2021  Spider-Man: No Way Home    5083.954        8940      popular   \n",
       "1          2021  Spider-Man: No Way Home    5083.954        8940      popular   \n",
       "2          2021  Spider-Man: No Way Home    5083.954        8940      popular   \n",
       "3          2022               The Batman    3827.658        1151      popular   \n",
       "4          2022               The Batman    3827.658        1151      popular   \n",
       "\n",
       "             Genre  \n",
       "0           Action  \n",
       "1        Adventure  \n",
       "2  Science Fiction  \n",
       "3            Crime  \n",
       "4          Mystery  "
      ]
     },
     "execution_count": 25,
     "metadata": {},
     "output_type": "execute_result"
    }
   ],
   "source": [
    "df['Genre'] = df['Genre'].str.split(', ')\n",
    "genre_exploded_df = df.explode('Genre').reset_index(drop = True)\n",
    "\n",
    "genre_exploded_df.head()"
   ]
  },
  {
   "cell_type": "code",
   "execution_count": 26,
   "id": "96820eb1-a250-482e-a983-6497fb71cf1c",
   "metadata": {},
   "outputs": [
    {
     "data": {
      "text/plain": [
       "Release_Year     102\n",
       "Title           9512\n",
       "Popularity      8159\n",
       "Vote_Count      3266\n",
       "Vote_Average       4\n",
       "Genre             19\n",
       "dtype: int64"
      ]
     },
     "execution_count": 26,
     "metadata": {},
     "output_type": "execute_result"
    }
   ],
   "source": [
    "genre_exploded_df.nunique()"
   ]
  },
  {
   "cell_type": "code",
   "execution_count": 27,
   "id": "b3bc6db6-0cbe-4e47-82d6-e86e90e2b2bd",
   "metadata": {},
   "outputs": [
    {
     "data": {
      "text/plain": [
       "(25792, 6)"
      ]
     },
     "execution_count": 27,
     "metadata": {},
     "output_type": "execute_result"
    }
   ],
   "source": [
    "genre_exploded_df.shape"
   ]
  },
  {
   "cell_type": "markdown",
   "id": "c874d8b2-7ead-4661-94c3-0865dfef7a0b",
   "metadata": {},
   "source": [
    "#### Now that our dataset is clean and tidy, we are left with a total of 6 columns and 25792 rows to dig into during our analysis"
   ]
  },
  {
   "cell_type": "markdown",
   "id": "d9c46bbc-d6f9-4d63-a180-e452dab70385",
   "metadata": {},
   "source": [
    "### Data Visualization"
   ]
  },
  {
   "cell_type": "code",
   "execution_count": 28,
   "id": "41c364d7-452a-4927-8062-5663d4e9c77c",
   "metadata": {},
   "outputs": [],
   "source": [
    "sns.set_style('whitegrid')"
   ]
  },
  {
   "cell_type": "markdown",
   "id": "805d57a3-017d-4f31-a710-d61556cb1928",
   "metadata": {},
   "source": [
    "#### Q1: What is the most frequent genre in the dataset?"
   ]
  },
  {
   "cell_type": "code",
   "execution_count": 29,
   "id": "57cfc49e-779c-4ae2-b6af-5ff8cebe6786",
   "metadata": {},
   "outputs": [
    {
     "data": {
      "text/plain": [
       "Genre\n",
       "Drama              3744\n",
       "Comedy             3031\n",
       "Action             2686\n",
       "Thriller           2488\n",
       "Adventure          1853\n",
       "Romance            1476\n",
       "Horror             1470\n",
       "Animation          1438\n",
       "Family             1414\n",
       "Fantasy            1308\n",
       "Science Fiction    1273\n",
       "Crime              1242\n",
       "Mystery             773\n",
       "History             427\n",
       "War                 308\n",
       "Music               295\n",
       "Documentary         215\n",
       "TV Movie            214\n",
       "Western             137\n",
       "Name: count, dtype: int64"
      ]
     },
     "execution_count": 29,
     "metadata": {},
     "output_type": "execute_result"
    }
   ],
   "source": [
    "genre_exploded_df['Genre'].value_counts()"
   ]
  },
  {
   "cell_type": "code",
   "execution_count": 30,
   "id": "52ee95b1-b6ab-4435-a449-55a134bed37c",
   "metadata": {},
   "outputs": [
    {
     "data": {
      "image/png": "[encoded data removed]",
      "text/plain": [
       "<Figure size 640x480 with 1 Axes>"
      ]
     },
     "metadata": {},
     "output_type": "display_data"
    }
   ],
   "source": [
    "sns.countplot(y = 'Genre', data = genre_exploded_df, order = genre_exploded_df['Genre'].value_counts().index)\n",
    "plt.title('Genre column distribution')\n",
    "plt.show()"
   ]
  },
  {
   "cell_type": "markdown",
   "id": "229b7ac1-bc03-4469-9485-5a1ebd4c7416",
   "metadata": {},
   "source": [
    "- we can notice from the above visual that Drama genre is the most frequent genre in our dataset. It has 3744 movies. western is the least frequent genre."
   ]
  },
  {
   "cell_type": "markdown",
   "id": "1a0b31e8-bc3d-4f2d-9c72-6422a1db5e61",
   "metadata": {},
   "source": [
    "#### Q2. What genres has highest votes?"
   ]
  },
  {
   "cell_type": "code",
   "execution_count": 31,
   "id": "ed3cd9fe-95fb-4949-be80-f9b880cdc44e",
   "metadata": {},
   "outputs": [
    {
     "data": {
      "text/plain": [
       "Genre\n",
       "Drama              5141495\n",
       "Action             4868675\n",
       "Adventure          4313869\n",
       "Comedy             3933497\n",
       "Thriller           3631594\n",
       "Science Fiction    2850476\n",
       "Fantasy            2521940\n",
       "Family             2046625\n",
       "Crime              1980261\n",
       "Romance            1803756\n",
       "Animation          1525010\n",
       "Horror             1448486\n",
       "Mystery            1181275\n",
       "History             527056\n",
       "War                 448918\n",
       "Music               297446\n",
       "Western             186860\n",
       "TV Movie             68441\n",
       "Documentary          38224\n",
       "Name: Vote_Count, dtype: Int64"
      ]
     },
     "execution_count": 31,
     "metadata": {},
     "output_type": "execute_result"
    }
   ],
   "source": [
    "vote_counts = genre_exploded_df.groupby('Genre')['Vote_Count'].sum().sort_values(ascending = False)\n",
    "vote_counts"
   ]
  },
  {
   "cell_type": "code",
   "execution_count": 32,
   "id": "80a017b3-0a18-44e2-97c4-f9958b20ba41",
   "metadata": {},
   "outputs": [
    {
     "data": {
      "image/png": "[encoded data removed]",
      "text/plain": [
       "<Figure size 640x480 with 1 Axes>"
      ]
     },
     "metadata": {},
     "output_type": "display_data"
    }
   ],
   "source": [
    "genre_votes_df = vote_counts.reset_index()\n",
    "\n",
    "sns.barplot(data=genre_votes_df, x='Vote_Count', y='Genre', hue = 'Genre', palette= 'muted', legend = False)\n",
    "\n",
    "plt.title('Total Vote Count by Genre')\n",
    "plt.xlabel('Total Votes')\n",
    "plt.ylabel('Genre')\n",
    "plt.tight_layout()\n",
    "plt.show()"
   ]
  },
  {
   "cell_type": "markdown",
   "id": "96f94cee-8d6c-4cfe-94c2-65c9c3c82c57",
   "metadata": {},
   "source": [
    "- Drama has the highest vote count with 5141495 votes."
   ]
  },
  {
   "cell_type": "markdown",
   "id": "764e130f-f5d0-41bd-83f1-55658c84c2b8",
   "metadata": {},
   "source": [
    "#### Q3. What movies got the lowest popularity? What's its genre?"
   ]
  },
  {
   "cell_type": "code",
   "execution_count": 33,
   "id": "a48fa7e0-3acb-42b8-a3b2-412092ab50f7",
   "metadata": {},
   "outputs": [
    {
     "data": {
      "text/html": [
       "<div>\n",
       "<style scoped>\n",
       "    .dataframe tbody tr th:only-of-type {\n",
       "        vertical-align: middle;\n",
       "    }\n",
       "\n",
       "    .dataframe tbody tr th {\n",
       "        vertical-align: top;\n",
       "    }\n",
       "\n",
       "    .dataframe thead th {\n",
       "        text-align: right;\n",
       "    }\n",
       "</style>\n",
       "<table border=\"1\" class=\"dataframe\">\n",
       "  <thead>\n",
       "    <tr style=\"text-align: right;\">\n",
       "      <th></th>\n",
       "      <th>Release_Year</th>\n",
       "      <th>Title</th>\n",
       "      <th>Popularity</th>\n",
       "      <th>Vote_Count</th>\n",
       "      <th>Vote_Average</th>\n",
       "      <th>Genre</th>\n",
       "    </tr>\n",
       "  </thead>\n",
       "  <tbody>\n",
       "    <tr>\n",
       "      <th>9835</th>\n",
       "      <td>2021</td>\n",
       "      <td>The United States vs. Billie Holiday</td>\n",
       "      <td>13.354</td>\n",
       "      <td>152</td>\n",
       "      <td>average</td>\n",
       "      <td>[Music, Drama, History]</td>\n",
       "    </tr>\n",
       "    <tr>\n",
       "      <th>9836</th>\n",
       "      <td>1984</td>\n",
       "      <td>Threads</td>\n",
       "      <td>13.354</td>\n",
       "      <td>186</td>\n",
       "      <td>popular</td>\n",
       "      <td>[War, Drama, Science Fiction]</td>\n",
       "    </tr>\n",
       "  </tbody>\n",
       "</table>\n",
       "</div>"
      ],
      "text/plain": [
       "      Release_Year                                 Title  Popularity  \\\n",
       "9835          2021  The United States vs. Billie Holiday      13.354   \n",
       "9836          1984                               Threads      13.354   \n",
       "\n",
       "      Vote_Count Vote_Average                          Genre  \n",
       "9835         152      average        [Music, Drama, History]  \n",
       "9836         186      popular  [War, Drama, Science Fiction]  "
      ]
     },
     "execution_count": 33,
     "metadata": {},
     "output_type": "execute_result"
    }
   ],
   "source": [
    "df[df['Popularity'] == df['Popularity'].min()]"
   ]
  },
  {
   "cell_type": "code",
   "execution_count": 34,
   "id": "47f56766-3608-4b4b-b452-cb3373c87eaf",
   "metadata": {},
   "outputs": [
    {
     "data": {
      "image/png": "[encoded data removed]",
      "text/plain": [
       "<Figure size 640x480 with 1 Axes>"
      ]
     },
     "metadata": {},
     "output_type": "display_data"
    }
   ],
   "source": [
    "top_n = df.sort_values('Popularity', ascending=True).head(5).reset_index()\n",
    "sns.barplot(data=top_n, x='Title', y='Popularity', hue = 'Title', palette='muted')\n",
    "\n",
    "# plt.figure(figsize=(10, 6))\n",
    "plt.title('Least Popular Movies')\n",
    "plt.xticks(rotation=45)\n",
    "plt.tight_layout()\n",
    "plt.show()"
   ]
  },
  {
   "cell_type": "markdown",
   "id": "0e6c6f8d-5028-4697-a732-c09e83bebd4a",
   "metadata": {},
   "source": [
    "- The United States vs. Billie Holiday and threads got the lowest popularity rate in our dataset and it has genres of music , drama , 'war', 'sci-fi' and history."
   ]
  },
  {
   "cell_type": "markdown",
   "id": "4b120565-e055-4318-bf02-51a3d25dd54e",
   "metadata": {},
   "source": [
    "#### Q4. What movies got the highest popularity? What's its genre?"
   ]
  },
  {
   "cell_type": "code",
   "execution_count": 35,
   "id": "029f475f-e32d-4f45-b647-31b04445430f",
   "metadata": {},
   "outputs": [
    {
     "data": {
      "text/html": [
       "<div>\n",
       "<style scoped>\n",
       "    .dataframe tbody tr th:only-of-type {\n",
       "        vertical-align: middle;\n",
       "    }\n",
       "\n",
       "    .dataframe tbody tr th {\n",
       "        vertical-align: top;\n",
       "    }\n",
       "\n",
       "    .dataframe thead th {\n",
       "        text-align: right;\n",
       "    }\n",
       "</style>\n",
       "<table border=\"1\" class=\"dataframe\">\n",
       "  <thead>\n",
       "    <tr style=\"text-align: right;\">\n",
       "      <th></th>\n",
       "      <th>Release_Year</th>\n",
       "      <th>Title</th>\n",
       "      <th>Popularity</th>\n",
       "      <th>Vote_Count</th>\n",
       "      <th>Vote_Average</th>\n",
       "      <th>Genre</th>\n",
       "    </tr>\n",
       "  </thead>\n",
       "  <tbody>\n",
       "    <tr>\n",
       "      <th>0</th>\n",
       "      <td>2021</td>\n",
       "      <td>Spider-Man: No Way Home</td>\n",
       "      <td>5083.954</td>\n",
       "      <td>8940</td>\n",
       "      <td>popular</td>\n",
       "      <td>[Action, Adventure, Science Fiction]</td>\n",
       "    </tr>\n",
       "  </tbody>\n",
       "</table>\n",
       "</div>"
      ],
      "text/plain": [
       "   Release_Year                    Title  Popularity  Vote_Count Vote_Average  \\\n",
       "0          2021  Spider-Man: No Way Home    5083.954        8940      popular   \n",
       "\n",
       "                                  Genre  \n",
       "0  [Action, Adventure, Science Fiction]  "
      ]
     },
     "execution_count": 35,
     "metadata": {},
     "output_type": "execute_result"
    }
   ],
   "source": [
    "df[df['Popularity'] == df['Popularity'].max()]"
   ]
  },
  {
   "cell_type": "code",
   "execution_count": 36,
   "id": "610d85cb-6cd3-4d72-aea8-cc33fbb4f18f",
   "metadata": {},
   "outputs": [
    {
     "data": {
      "image/png": "[encoded data removed]",
      "text/plain": [
       "<Figure size 640x480 with 1 Axes>"
      ]
     },
     "metadata": {},
     "output_type": "display_data"
    }
   ],
   "source": [
    "top_n = df.sort_values('Popularity', ascending=False).head(5).reset_index()\n",
    "sns.barplot(data=top_n, x='Title', y='Popularity', hue = 'Title', palette='muted')\n",
    "\n",
    "plt.title('Top Popular Movies')\n",
    "plt.xticks(rotation=45)\n",
    "plt.tight_layout()\n",
    "plt.show()"
   ]
  },
  {
   "cell_type": "markdown",
   "id": "5819ca11-46ea-4582-8328-e86b53c3da12",
   "metadata": {},
   "source": [
    "- Spider-Man: No Way Home got the highest popularity rate. It has genre of Action, Adventure, and Science Fiction"
   ]
  },
  {
   "cell_type": "markdown",
   "id": "ebe31c79-b26f-4fc9-9869-0dc70bc3d753",
   "metadata": {},
   "source": [
    "#### Q5. Which year has the most filmmed movies?"
   ]
  },
  {
   "cell_type": "code",
   "execution_count": 37,
   "id": "ce6fef0d-fbb5-4609-bd95-c4a9a0632010",
   "metadata": {},
   "outputs": [
    {
     "data": {
      "text/plain": [
       "Release_Year\n",
       "2021    714\n",
       "2018    530\n",
       "2017    510\n",
       "2019    500\n",
       "2016    470\n",
       "       ... \n",
       "1902      1\n",
       "1920      1\n",
       "2024      1\n",
       "1929      1\n",
       "1930      1\n",
       "Name: count, Length: 102, dtype: Int64"
      ]
     },
     "execution_count": 37,
     "metadata": {},
     "output_type": "execute_result"
    }
   ],
   "source": [
    "movie_counts_by_year = df['Release_Year'].value_counts().sort_values(ascending = False)\n",
    "movie_counts_by_year"
   ]
  },
  {
   "cell_type": "code",
   "execution_count": 38,
   "id": "2cba4403-24b7-428d-a567-9deefd2e5fee",
   "metadata": {},
   "outputs": [
    {
     "data": {
      "image/png": "[encoded data removed]",
      "text/plain": [
       "<Figure size 640x480 with 1 Axes>"
      ]
     },
     "metadata": {},
     "output_type": "display_data"
    }
   ],
   "source": [
    "movie_counts_by_year.head(10).plot(kind='bar')\n",
    "\n",
    "plt.title('Number of Movies Released per Year')\n",
    "plt.xlabel('Year')\n",
    "plt.ylabel('Number of Movies')\n",
    "plt.xticks(rotation=45)\n",
    "plt.tight_layout()\n",
    "plt.show()"
   ]
  },
  {
   "cell_type": "markdown",
   "id": "8476b957-a525-4a33-b705-499c0505bc3c",
   "metadata": {},
   "source": [
    "- Year 2021 has the most released movies, this year 714 movie was released."
   ]
  },
  {
   "cell_type": "markdown",
   "id": "aa163f64-8c33-4039-b031-372ccf6fb1ad",
   "metadata": {},
   "source": [
    "## Conclusion"
   ]
  },
  {
   "cell_type": "markdown",
   "id": "9a8ba610-1c54-478c-960a-ee29388a424d",
   "metadata": {},
   "source": [
    "#### Q1: What is the most frequent genre in the dataset?\n",
    "- Drama is the most frequent genre in the dataset. It has 3744 movies."
   ]
  },
  {
   "cell_type": "markdown",
   "id": "fda0b266-8170-40ae-ba4c-b76add14202e",
   "metadata": {},
   "source": [
    "#### Q2. What genres has highest votes?\n",
    "- Drama has the highest vote count with 5141495 votes."
   ]
  },
  {
   "cell_type": "markdown",
   "id": "7dae8e2b-f46c-4523-8a41-454793da0b0a",
   "metadata": {},
   "source": [
    "#### Q3. What movies got the lowest popularity? What's its genre?\n",
    "- The United States vs. Billie Holiday and threads got the lowest popularity rate in our dataset and it has genres of music , drama , war, sci-fi and history."
   ]
  },
  {
   "cell_type": "markdown",
   "id": "c44ac1c8-6dc6-4c74-b133-fa5f78533783",
   "metadata": {},
   "source": [
    "#### Q4. What movies got the highest popularity? What's its genre?\n",
    "- Spider-Man: No Way Home got the highest popularity rate. It has genre of Action, Adventure, and Science Fiction"
   ]
  },
  {
   "cell_type": "markdown",
   "id": "fd38ebf9-8a09-4111-9ae3-4c20f222c969",
   "metadata": {},
   "source": [
    "#### Q5. Which year has the most filmmed movies?\n",
    "- Year 2021 has the most released movies, this year 714 movie was released."
   ]
  }
 ],
 "metadata": {
  "kernelspec": {
   "display_name": "Python 3 (ipykernel)",
   "language": "python",
   "name": "python3"
  },
  "language_info": {
   "codemirror_mode": {
    "name": "ipython",
    "version": 3
   },
   "file_extension": ".py",
   "mimetype": "text/x-python",
   "name": "python",
   "nbconvert_exporter": "python",
   "pygments_lexer": "ipython3",
   "version": "3.12.4"
  }
 },
 "nbformat": 4,
 "nbformat_minor": 5
}
